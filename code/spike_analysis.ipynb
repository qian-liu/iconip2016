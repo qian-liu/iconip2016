{
 "cells": [
  {
   "cell_type": "code",
   "execution_count": 7,
   "metadata": {
    "collapsed": true
   },
   "outputs": [],
   "source": [
    "import numpy as np\n",
    "import matplotlib.pyplot as plt\n",
    "import itertools"
   ]
  },
  {
   "cell_type": "code",
   "execution_count": 8,
   "metadata": {
    "collapsed": true
   },
   "outputs": [],
   "source": [
    "def get_result(time_window):\n",
    "    spike_count = list()\n",
    "    predict_max = -1*np.ones(num_test)\n",
    "    first_spikes = dur_test*np.ones((num_output,num_test))\n",
    "    fastest = -1*np.ones(num_test)\n",
    "    latency = dur_test*np.ones(num_test)\n",
    "    correct_latency = np.zeros(num_test)\n",
    "    digit_latency = dur_test*np.ones((num_digit,num_test))\n",
    "    for i in range(num_output):\n",
    "        index_i = np.where(spikes[:,0] == i)\n",
    "        spike_train = spikes[index_i, 1][0]\n",
    "        \n",
    "        for key, igroup in itertools.groupby(spike_train, lambda x: x // (dur_test+silence)):\n",
    "            test_id = int(key)\n",
    "            first_spikes[i][test_id] = list(igroup)[0] - test_id*(dur_test+silence)\n",
    "        \n",
    "        ind = np.where(np.mod(spike_train ,(dur_test+silence)) <= time_window)[0]\n",
    "        temp = np.histogram(spike_train[ind], bins=range(0, (dur_test+silence)*num_test+1,dur_test+silence))[0]\n",
    "        spike_count.append(temp)\n",
    "        \n",
    "    spike_count = np.array(spike_count)\n",
    "    for i in range(num_test):\n",
    "        if max(spike_count[:,i]) > 0:\n",
    "            label = np.argmax(spike_count[:,i])//num_cluster\n",
    "            predict_max[i] = label\n",
    "            correct_latency[i] = first_spikes[np.argmax(spike_count[:,i])][i]\n",
    "        fastest[i] = np.argmin(first_spikes[:,i])//num_cluster\n",
    "        a = np.reshape(first_spikes[:,i], (num_digit, num_cluster))\n",
    "        digit_latency[:, i] = a.min(axis=1)\n",
    "        \n",
    "    latency = np.min(first_spikes, axis=0)\n",
    "    return predict_max, fastest, latency, correct_latency, digit_latency"
   ]
  },
  {
   "cell_type": "code",
   "execution_count": 9,
   "metadata": {
    "collapsed": true
   },
   "outputs": [],
   "source": [
    "def get_latency():\n",
    "    respond = 1000*np.ones(num_test)\n",
    "    for i in range(num_test):\n",
    "        if len(spikes) > 0:\n",
    "            resp_train = np.where(spikes[:,1]>i*(dur_test+silence))[0]\n",
    "            if len(resp_train) > 0:\n",
    "                resp_ind = resp_train[0]\n",
    "                latency = spikes[resp_ind, 1] - i*(dur_test+silence)\n",
    "                respond[i] = latency\n",
    "    return respond"
   ]
  },
  {
   "cell_type": "code",
   "execution_count": 10,
   "metadata": {
    "collapsed": false
   },
   "outputs": [],
   "source": [
    "# import mnist_utils as pois\n",
    "# test_x, test_y = pois.get_test_data()"
   ]
  },
  {
   "cell_type": "code",
   "execution_count": 11,
   "metadata": {
    "collapsed": false
   },
   "outputs": [],
   "source": [
    "import scipy.io as sio\n",
    "tmp_y = sio.loadmat('mnist.mat')['test_y']\n",
    "tmp_y = np.argmax(tmp_y, axis=0)"
   ]
  },
  {
   "cell_type": "code",
   "execution_count": 12,
   "metadata": {
    "collapsed": false
   },
   "outputs": [
    {
     "name": "stdout",
     "output_type": "stream",
     "text": [
      "[9702]\n"
     ]
    }
   ],
   "source": [
    "num_digit = 10\n",
    "num_cluster = 1\n",
    "num_output = num_cluster*num_digit\n",
    "dur_test = 1000\n",
    "silence = 200\n",
    "num_test = 100\n",
    "num_mnist = 10000\n",
    "\n",
    "predict_max = -1*np.ones(num_mnist)\n",
    "fastest_neuron = -1*np.ones(num_mnist)\n",
    "respond_time = dur_test*np.ones(num_mnist)\n",
    "correct_latency = dur_test*np.ones(num_mnist)\n",
    "digit_latency = dur_test*np.ones((num_digit,num_mnist))\n",
    "\n",
    "result_timew = []\n",
    "# time_ws = range(10,100,10)\n",
    "# time_ws.extend(range(100,1001,100))\n",
    "time_ws =[1000]\n",
    "\n",
    "for time_w in time_ws:\n",
    "    for test_offset in range(0, num_mnist, num_test):\n",
    "        spike_f = 'spikes/spike_scaled_%d.npy'%(test_offset)\n",
    "        spikes = np.load(spike_f)\n",
    "    #     plt.plot([i[1] for i in spikes], [i[0] for i in spikes], \".\", )\n",
    "        plt.show()\n",
    "        predict, fastest, latency, correct_l, digit_l = get_result(time_w)\n",
    "        predict_max[test_offset:test_offset+num_test] = predict\n",
    "        fastest_neuron[test_offset:test_offset+num_test] = fastest\n",
    "        respond_time[test_offset:test_offset+num_test] = latency\n",
    "        correct_latency[test_offset:test_offset+num_test] = correct_l\n",
    "        digit_latency[:,test_offset:test_offset+num_test] = digit_l\n",
    "#         print sum(predict == tmp_y[test_offset:test_offset+num_test])\n",
    "    result_timew.append(sum(predict_max == tmp_y))\n",
    "print result_timew"
   ]
  },
  {
   "cell_type": "code",
   "execution_count": 123,
   "metadata": {
    "collapsed": false
   },
   "outputs": [
    {
     "name": "stdout",
     "output_type": "stream",
     "text": [
      "[10, 20, 30, 40, 50, 60, 70, 80, 90, 100, 200, 300, 400, 500, 600, 700, 800, 900, 1000]\n"
     ]
    }
   ],
   "source": [
    "a = result_timew\n",
    "np.save('result_timewindow_relu.npy', a)\n",
    "print time_ws"
   ]
  },
  {
   "cell_type": "code",
   "execution_count": 53,
   "metadata": {
    "collapsed": false
   },
   "outputs": [
    {
     "name": "stdout",
     "output_type": "stream",
     "text": [
      "31.4522 3.82918936069\n"
     ]
    }
   ],
   "source": [
    "print respond_time.mean()-0.96, respond_time.std()"
   ]
  },
  {
   "cell_type": "code",
   "execution_count": 54,
   "metadata": {
    "collapsed": false
   },
   "outputs": [
    {
     "name": "stdout",
     "output_type": "stream",
     "text": [
      "31.4301308081 0.767175477304 97.0054518454 1.71051216427\n"
     ]
    }
   ],
   "source": [
    "correct = predict_max == test_y\n",
    "input_l = np.zeros(num_digit)\n",
    "ca = np.zeros(num_digit)\n",
    "for i in range(num_digit):\n",
    "    ind = np.where(test_y==i)[0]\n",
    "    input_l[i] = respond_time[ind].mean()-0.96\n",
    "    ca[i] = correct[ind].sum()*100./ind.shape[0]\n",
    "print input_l.mean(), input_l.std(), ca.mean(), ca.std()"
   ]
  },
  {
   "cell_type": "code",
   "execution_count": 71,
   "metadata": {
    "collapsed": true
   },
   "outputs": [],
   "source": [
    "spike_f = 'spikes/spike_scaled_%d.npy'%(0)\n",
    "spikes = np.load(spike_f)"
   ]
  },
  {
   "cell_type": "code",
   "execution_count": 82,
   "metadata": {
    "collapsed": false
   },
   "outputs": [
    {
     "name": "stdout",
     "output_type": "stream",
     "text": [
      "3184 3184\n"
     ]
    }
   ],
   "source": [
    "time_window = 1200\n",
    "index_i = np.where(spikes[:,0] == 0)\n",
    "spike_train = spikes[index_i, 1][0]\n",
    "temp = np.where(np.mod(spike_train ,(dur_test+silence)) <= time_window)[0]\n",
    "print len(temp),len(spike_train)"
   ]
  },
  {
   "cell_type": "code",
   "execution_count": null,
   "metadata": {
    "collapsed": true
   },
   "outputs": [],
   "source": []
  }
 ],
 "metadata": {
  "kernelspec": {
   "display_name": "Python 2",
   "language": "python",
   "name": "python2"
  },
  "language_info": {
   "codemirror_mode": {
    "name": "ipython",
    "version": 2
   },
   "file_extension": ".py",
   "mimetype": "text/x-python",
   "name": "python",
   "nbconvert_exporter": "python",
   "pygments_lexer": "ipython2",
   "version": "2.7.6"
  }
 },
 "nbformat": 4,
 "nbformat_minor": 0
}
